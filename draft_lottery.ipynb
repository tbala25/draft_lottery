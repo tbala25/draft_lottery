{
 "cells": [
  {
   "cell_type": "markdown",
   "id": "c487cce5",
   "metadata": {},
   "source": [
    "# NBA Original Method\n",
    "\n",
    "Fourteen ping-pong balls numbered 1 through 14 will be placed in a lottery machine. There are 1,001 possible combinations when four balls are drawn out of 14, without regard to their order of selection. Before the lottery, 1,000 of those 1,001 combinations will be assigned to the 14 participating lottery teams. The lottery machine is manufactured by the Smart Play Company, a leading manufacturer of state lottery machines throughout the United States. Smart Play also weighs, measures and certifies the ping-pong balls before the drawing.\n",
    "\n",
    "The drawing process occurs in the following manner: All 14 balls are placed in the lottery machine and they are mixed for 20 seconds, and then the first ball is removed. The remaining balls are mixed in the lottery machine for another 10 seconds, and then the second ball is drawn. There is a 10-second mix, and then the third ball is drawn. There is a 10-second mix, and then the fourth ball is drawn. The team that has been assigned that combination will receive the No. 1 pick. The same process is repeated with the same ping-pong balls and lottery machine for the second through fourth picks.\n",
    "\n",
    "If the same team comes up more than once, the result is discarded and another four-ball combination is selected. Also, if the one unassigned combination is drawn, the result is discarded and the balls are drawn again."
   ]
  },
  {
   "cell_type": "markdown",
   "id": "6b3107d1",
   "metadata": {},
   "source": [
    "# Adapted Method\n",
    "\n",
    "8 ping-pong balls are placed in the \"machine\". There are 70 total combinations when 4 balls are drawn without regard to order of selection. \n",
    "\n",
    "69 of the 70 are assigned to the 8 teams.\n",
    "\n",
    "Then 8 balls are placed in the \"machine\". 4 balls are selected. The team that owns that combination will earn the 1st pick. Same is done for picks 2,3,4. If the same team comes up more than once, the result is discarded and another four-ball combination is selected. Also, if the one unassigned combination is drawn, the result is discarded and the balls are drawn again.\n",
    "\n",
    "Teams can jump into the top 4 but after the top 4 picks are assigned the remaining picks (5-8) are assigned in reverse order of record (i.e. if Seed 1 dropped out of the top 4, it will get Pick 5)"
   ]
  },
  {
   "cell_type": "code",
   "execution_count": 266,
   "id": "3df0ba84",
   "metadata": {},
   "outputs": [],
   "source": [
    "import itertools\n",
    "import pandas as pd\n",
    "import random\n",
    "import matplotlib.pyplot as plt\n",
    "num_teams_lotto = 8\n",
    "top_n_pick_jump = 4\n",
    "seeds = list(range(1,num_teams_lotto+1))\n",
    "\n",
    "number_of_combos = sum([1 for x in itertools.combinations(seeds, top_n_pick_jump)])"
   ]
  },
  {
   "cell_type": "code",
   "execution_count": 267,
   "id": "5c32298c",
   "metadata": {},
   "outputs": [],
   "source": [
    "#combination proportions\n",
    "#percent of combos each seed is assigned\n",
    "\n",
    "seed_props = {}\n",
    "# seed_props[1] = .24\n",
    "# seed_props[2] = .19\n",
    "# seed_props[3] = .15\n",
    "# seed_props[4] = .12\n",
    "# seed_props[5] = .1\n",
    "# seed_props[6] = .08\n",
    "# seed_props[7] = .06\n",
    "# seed_props[8] = .04\n",
    "\n",
    "seed_props[1] = .38\n",
    "seed_props[2] = .23\n",
    "seed_props[3] = .14\n",
    "seed_props[4] = .08\n",
    "seed_props[5] = .06\n",
    "seed_props[6] = .04\n",
    "seed_props[7] = .03\n",
    "seed_props[8] = .02\n",
    "\n",
    "\n"
   ]
  },
  {
   "cell_type": "code",
   "execution_count": 268,
   "id": "f57cf7de",
   "metadata": {},
   "outputs": [
    {
     "data": {
      "text/plain": [
       "[<matplotlib.lines.Line2D at 0x7fb2e163c6a0>]"
      ]
     },
     "execution_count": 268,
     "metadata": {},
     "output_type": "execute_result"
    },
    {
     "data": {
      "image/png": "[encoded data removed]",
      "text/plain": [
       "<Figure size 640x480 with 1 Axes>"
      ]
     },
     "metadata": {},
     "output_type": "display_data"
    }
   ],
   "source": [
    "plt.plot([1,2,3,4,5,6,7,8], [.38,.23,.14,.08,.06,.04,.03,.02]) "
   ]
  },
  {
   "cell_type": "code",
   "execution_count": 235,
   "id": "5bb412fe",
   "metadata": {},
   "outputs": [],
   "source": [
    "#combination numbers\n",
    "#number of combos each seed is assigned\n",
    "\n",
    "seed_nums = {}\n",
    "for seed in seeds:\n",
    "    seed_nums[seed] = round(seed_props[seed] * number_of_combos)\n"
   ]
  },
  {
   "cell_type": "code",
   "execution_count": 236,
   "id": "231b617d",
   "metadata": {},
   "outputs": [],
   "source": [
    "#get combinations\n",
    "combinations = []\n",
    "for k in itertools.combinations(seeds, top_n_pick_jump):\n",
    "    combinations.append(k)\n",
    "    #print(k)\n",
    "    \n",
    "combinations_df = pd.DataFrame(combinations)"
   ]
  },
  {
   "cell_type": "code",
   "execution_count": 237,
   "id": "53c0d91c",
   "metadata": {},
   "outputs": [],
   "source": [
    "#shuffle indices\n",
    "random_index = list(combinations_df.index.values)\n",
    "random.shuffle(random_index)"
   ]
  },
  {
   "cell_type": "code",
   "execution_count": 238,
   "id": "bfc46fe1",
   "metadata": {},
   "outputs": [],
   "source": [
    "#get combos assigned to each seed\n",
    "cumulative_len = 0\n",
    "seed_combos = {}\n",
    "\n",
    "for seed in seeds:\n",
    "    seed_combos[seed] = combinations_df.iloc[random_index[cumulative_len : cumulative_len + seed_nums[seed]]]\n",
    "    cumulative_len += seed_nums[seed]"
   ]
  },
  {
   "cell_type": "code",
   "execution_count": 263,
   "id": "09eca729",
   "metadata": {},
   "outputs": [
    {
     "name": "stdout",
     "output_type": "stream",
     "text": [
      "Pick 1 goes to Seed: 2\n",
      "[1, 2, 3, 6]\n",
      "Pick 2 goes to Seed: 1\n",
      "[2, 4, 5, 8]\n",
      "Seed: 1 won pick 3 but is already assigned to another pick\n",
      "Pick 3 goes to Seed: 5\n",
      "[1, 3, 7, 8]\n",
      "Seed: 2 won pick 4 but is already assigned to another pick\n",
      "Pick 4 goes to Seed: 6\n",
      "[1, 6, 7, 8]\n"
     ]
    },
    {
     "data": {
      "text/plain": [
       "[2, 1, 5, 6, 3, 4, 7, 8]"
      ]
     },
     "execution_count": 263,
     "metadata": {},
     "output_type": "execute_result"
    }
   ],
   "source": [
    "seeds_assigned = []\n",
    "picks_to_assign = list(range(1,top_n_pick_jump+1))\n",
    "\n",
    "while len(picks_to_assign)>0:\n",
    "    pick = picks_to_assign[0]\n",
    "    pick_combo = random.sample(seeds, top_n_pick_jump)\n",
    "    pick_combo.sort()\n",
    "    \n",
    "    for seed in seeds:\n",
    "\n",
    "        seed_n_combos = seed_combos[seed]\n",
    "\n",
    "        if len(seed_n_combos[(seed_n_combos[0]==pick_combo[0]) &\n",
    "                      (seed_n_combos[1]==pick_combo[1]) &\n",
    "                      (seed_n_combos[2]==pick_combo[2]) &\n",
    "                      (seed_n_combos[3]==pick_combo[3])])>0:\n",
    "            \n",
    "            if seed in seeds_assigned:\n",
    "                print(f'Seed: {seed} won pick {pick} but is already assigned to another pick')\n",
    "                pass\n",
    "                \n",
    "            else:\n",
    "                print(f'Pick {pick} goes to Seed: {seed}')\n",
    "                print(pick_combo)\n",
    "                seeds_assigned.append(seed)\n",
    "                picks_to_assign.remove(pick)\n",
    "\n",
    "\n",
    "seeds_assigned + list(set(seeds_assigned) ^ set(seeds))"
   ]
  },
  {
   "cell_type": "code",
   "execution_count": 248,
   "id": "405cd98b",
   "metadata": {},
   "outputs": [
    {
     "data": {
      "text/plain": [
       "[3, 1, 4, 2, 5, 6, 7, 8]"
      ]
     },
     "execution_count": 248,
     "metadata": {},
     "output_type": "execute_result"
    }
   ],
   "source": []
  },
  {
   "cell_type": "code",
   "execution_count": null,
   "id": "f88f9253",
   "metadata": {},
   "outputs": [],
   "source": []
  }
 ],
 "metadata": {
  "kernelspec": {
   "display_name": "Python 3 (ipykernel)",
   "language": "python",
   "name": "python3"
  },
  "language_info": {
   "codemirror_mode": {
    "name": "ipython",
    "version": 3
   },
   "file_extension": ".py",
   "mimetype": "text/x-python",
   "name": "python",
   "nbconvert_exporter": "python",
   "pygments_lexer": "ipython3",
   "version": "3.9.12"
  }
 },
 "nbformat": 4,
 "nbformat_minor": 5
}
